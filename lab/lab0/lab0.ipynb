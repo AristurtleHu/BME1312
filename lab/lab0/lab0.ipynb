{
 "cells": [
  {
   "cell_type": "markdown",
   "metadata": {
    "pycharm": {
     "name": "#%% md\n"
    }
   },
   "source": [
    "# BME-1312 Lab-0: Construct your CNN for classification\n"
   ]
  },
  {
   "cell_type": "code",
   "execution_count": 2,
   "metadata": {},
   "outputs": [],
   "source": [
    "######################## WRITE YOUR ANSWER BELOW ########################\n",
    "STUDENT_NAME = \"Renyi Yang\"\n",
    "STUDENT_NUMBER = \"2023533030\"\n",
    "#########################################################################"
   ]
  },
  {
   "cell_type": "markdown",
   "metadata": {},
   "source": [
    "## Setup environments\n",
    "\n",
    "You are required to install the following packages.\n",
    "\n",
    "- jupyter\n",
    "- scikit-image\n",
    "- numPy\n",
    "- pytorch torchvision\n",
    "- matplotlib\n",
    "- tqdm\n"
   ]
  },
  {
   "cell_type": "code",
   "execution_count": 3,
   "metadata": {
    "pycharm": {
     "name": "#%%\n"
    }
   },
   "outputs": [],
   "source": [
    "# Necessary packages for this homework, you are free to import more.\n",
    "import numpy as np\n",
    "from matplotlib import pyplot as plt\n",
    "import torch\n",
    "from torch import nn\n",
    "from torch import functional as F\n",
    "from torchvision import transforms, datasets\n",
    "from torch.utils.data import DataLoader\n",
    "\n",
    "# Progress bar\n",
    "from tqdm import tqdm"
   ]
  },
  {
   "cell_type": "markdown",
   "metadata": {},
   "source": [
    "## Part 1: Warm up\n",
    "\n",
    "In part-1, you will learn the basic operations to complete the deep learning MRI reconstruction using PyTorch and NumPy. You can skip this part if you are already familiar with the topics.\n",
    "\n",
    "Some learning materials:\n",
    "\n",
    "- [NumPy: the absolute basics for beginners](https://numpy.org/doc/1.22/user/absolute_beginners.html)\n",
    "- [PyTorch Official Tutorials](https://pytorch.org/tutorials/)\n",
    "\n",
    "Official documents of NumPy and PyTorch:\n",
    "\n",
    "- [NumPy API Reference](https://numpy.org/doc/1.22/reference/index.html#reference)\n",
    "- [PyTorch API Reference](https://pytorch.org/docs/stable/index.html)\n"
   ]
  },
  {
   "cell_type": "markdown",
   "metadata": {},
   "source": [
    "### Part 1A: Tensor/ndarray Operations\n",
    "\n",
    "In this section, you are required to be capable of manipulating mult-dimensions array, i.e. `numpy.ndarray` in NumPy and `torch.Tensor` in PyTorch. Most operations of ndarray and tensor are similar, you can find PyTorch tensor's API once you understand the usage of `ndarray` in numpy.\n",
    "\n",
    "Learning material:\n",
    "\n",
    "- [图解 Python numpy 基本操作 - 知乎](https://zhuanlan.zhihu.com/p/396444973)\n",
    "\n",
    "#### Numpy ndarray\n"
   ]
  },
  {
   "cell_type": "markdown",
   "metadata": {},
   "source": [
    "Min-Max:\n",
    "\n",
    "$$\n",
    "x_i' = \\frac{x_i - x_\\mathrm{min}}{x_\\mathrm{max} - x_\\mathrm{min}}\n",
    "$$\n",
    "\n",
    "Standard Normalization:\n",
    "\n",
    "$$\n",
    "x_i' = \\frac{x_i - \\mathrm{mean}(X)}{\\mathrm{std}(X)}\n",
    "$$\n"
   ]
  },
  {
   "cell_type": "code",
   "execution_count": 4,
   "metadata": {},
   "outputs": [],
   "source": [
    "# generate random image by normal distribution\n",
    "def random_image():\n",
    "\n",
    "    # hint:np.random.randn()\n",
    "    ######################## WRITE YOUR ANSWER BELOW ########################\n",
    "    img = np.random.randn(1, 256, 256)\n",
    "    return img\n",
    "    #########################################################################\n",
    "\n",
    "\n",
    "x = random_image()\n",
    "assert x.shape == (1, 256, 256)"
   ]
  },
  {
   "cell_type": "code",
   "execution_count": 5,
   "metadata": {},
   "outputs": [],
   "source": [
    "# Min-Max Normalization\n",
    "x = random_image()\n",
    "\n",
    "######################## WRITE YOUR ANSWER BELOW ########################\n",
    "x = (x - x.min()) / (x.max() - x.min())\n",
    "########################################################################\n",
    "assert np.abs(x.min()) < 1e-8\n",
    "assert np.abs(x.max() - 1.0) < 1e-8\n",
    "\n",
    "# standard normalization\n",
    "x = random_image()\n",
    "######################## WRITE YOUR ANSWER BELOW ########################\n",
    "x = (x - x.mean()) / x.std()\n",
    "########################################################################\n",
    "assert np.abs(np.mean(x)) < 1e-8\n",
    "assert np.abs(np.std(x) - 1.0) < 1e-8"
   ]
  },
  {
   "cell_type": "code",
   "execution_count": 6,
   "metadata": {},
   "outputs": [],
   "source": [
    "# Concatenate and Stack on the axis-0\n",
    "x1 = random_image()\n",
    "x2 = random_image()\n",
    "\n",
    "# hint:np.concatenate,np.stack\n",
    "######################## WRITE YOUR ANSWER BELOW ########################\n",
    "x_concate = np.concatenate([x1, x2], axis=0)\n",
    "x_stack = np.stack([x1, x2], axis=0)\n",
    "########################################################################\n",
    "assert x_concate.shape == (2, 256, 256)\n",
    "assert x_stack.shape == (2, 1, 256, 256)"
   ]
  },
  {
   "cell_type": "code",
   "execution_count": 7,
   "metadata": {},
   "outputs": [],
   "source": [
    "# Swap row-1 and row-2 of x in one line. Hint: fancy indexing, array[[]]\n",
    "x = np.arange(4).reshape(2, 2)\n",
    "######################## WRITE YOUR ANSWER BELOW ########################\n",
    "x[[0, 1]] = x[[1, 0]]\n",
    "########################################################################\n",
    "assert np.all(x == np.array([[2, 3], [0, 1]]))"
   ]
  },
  {
   "cell_type": "markdown",
   "metadata": {},
   "source": [
    "#### PyTorch tensor\n",
    "\n",
    "Try the same tasks in PyTorch's `Tensor`.\n"
   ]
  },
  {
   "cell_type": "code",
   "execution_count": 8,
   "metadata": {},
   "outputs": [],
   "source": [
    "# generate random image by normal distribution\n",
    "def random_image():\n",
    "    ######################## WRITE YOUR ANSWER BELOW ########################\n",
    "    img = torch.randn(1, 256, 256)\n",
    "    return img\n",
    "    ########################################################################\n",
    "\n",
    "\n",
    "x = random_image()\n",
    "assert x.shape == (1, 256, 256)\n",
    "assert isinstance(x, torch.Tensor)\n",
    "\n",
    "# Min-Max Normalization\n",
    "x = random_image()\n",
    "######################## WRITE YOUR ANSWER BELOW ########################\n",
    "x = (x - x.min()) / (x.max() - x.min())\n",
    "########################################################################\n",
    "assert torch.abs(x.min()) < 1e-5\n",
    "assert torch.abs(x.max() - 1.0) < 1e-5\n",
    "\n",
    "# standard normalization\n",
    "x = random_image()\n",
    "######################## WRITE YOUR ANSWER BELOW ########################\n",
    "x = (x - x.mean()) / x.std()\n",
    "########################################################################\n",
    "assert torch.abs(torch.mean(x)) < 1e-5\n",
    "assert torch.abs(torch.std(x) - 1.0) < 1e-5\n",
    "\n",
    "# Concatenate and Stack on the axis-0\n",
    "x1 = random_image()\n",
    "x2 = random_image()\n",
    "######################## WRITE YOUR ANSWER BELOW ########################\n",
    "x_concate = torch.cat([x1, x2], dim=0)\n",
    "x_stack = torch.stack([x1, x2], dim=0)\n",
    "########################################################################\n",
    "assert x_concate.shape == (2, 256, 256)\n",
    "assert x_stack.shape == (2, 1, 256, 256)\n",
    "\n",
    "# Swap row-1 and row-2 of x in one line\n",
    "x = torch.arange(4).reshape(2, 2)\n",
    "######################## WRITE YOUR ANSWER BELOW ########################\n",
    "x[[0, 1]] = x[[1, 0]]\n",
    "########################################################################\n",
    "assert torch.all((x - torch.tensor([[2, 3], [0, 1]])) < 1e-5)"
   ]
  },
  {
   "cell_type": "markdown",
   "metadata": {},
   "source": [
    "### Part 1B: Train MLP in PyTorch\n",
    "\n",
    "In this section, you will learn the basic pipeline of training a network in PyTorch.\n",
    "\n",
    "1. Define your model\n",
    "2. Perform the forward propagation\n",
    "3. Perform the backward propagation, then optimize by one step based on the gradients\n"
   ]
  },
  {
   "cell_type": "code",
   "execution_count": 9,
   "metadata": {},
   "outputs": [
    {
     "name": "stdout",
     "output_type": "stream",
     "text": [
      "tensor(10.9497, grad_fn=<MseLossBackward0>)\n"
     ]
    }
   ],
   "source": [
    "def one_optimize_step(inputs, ground_truth, model, criterion, optimizer):\n",
    "    # forward propagation. Hint: feed batch into the network\n",
    "    ######################## WRITE YOUR ANSWER BELOW ########################\n",
    "    outputs = model(inputs)\n",
    "    ########################################################################\n",
    "\n",
    "    # backward. Hint: compute loss, clear the gradients, perform backward propagation\n",
    "    ######################## WRITE YOUR ANSWER BELOW ########################\n",
    "    loss = criterion(outputs, ground_truth)\n",
    "    optimizer.zero_grad()\n",
    "    loss.backward()\n",
    "    ########################################################################\n",
    "\n",
    "    # optimize. Hint: .step() function\n",
    "    ######################## WRITE YOUR ANSWER BELOW ########################\n",
    "    optimizer.step()\n",
    "    ########################################################################\n",
    "\n",
    "    return loss\n",
    "\n",
    "\n",
    "# Test your optimize_step\n",
    "model = nn.Linear(1, 1)\n",
    "criterion = nn.MSELoss()\n",
    "optimizer = torch.optim.SGD(params=model.parameters(), lr=0.01)\n",
    "x = torch.arange(0, 10, step=0.01).reshape(-1, 1)  # [N_batch, 1]\n",
    "y = torch.sin(x).reshape(-1, 1)  # [N_batch, 1]\n",
    "loss = one_optimize_step(x, y, model, criterion, optimizer)\n",
    "print(loss)"
   ]
  },
  {
   "cell_type": "code",
   "execution_count": 10,
   "metadata": {},
   "outputs": [
    {
     "name": "stdout",
     "output_type": "stream",
     "text": [
      "Loss in epoch-010: 5.35e-02\n",
      "Loss in epoch-020: 1.33e-02\n",
      "Loss in epoch-030: 3.17e-03\n",
      "Loss in epoch-040: 2.32e-04\n",
      "Loss in epoch-050: 3.08e-04\n",
      "Loss in epoch-060: 3.06e-04\n",
      "Loss in epoch-070: 3.51e-04\n",
      "Loss in epoch-080: 3.17e-04\n",
      "Loss in epoch-090: 6.02e-05\n",
      "Loss in epoch-100: 6.22e-06\n"
     ]
    },
    {
     "data": {
      "image/png": "[encoded data removed]",
      "text/plain": [
       "<Figure size 640x480 with 1 Axes>"
      ]
     },
     "metadata": {},
     "output_type": "display_data"
    },
    {
     "data": {
      "image/png": "[encoded data removed]",
      "text/plain": [
       "<Figure size 640x480 with 1 Axes>"
      ]
     },
     "metadata": {},
     "output_type": "display_data"
    }
   ],
   "source": [
    "# Fit y=sin(x) using MLP, tune training paramter to get a plausible result\n",
    "# We encourage you to tune the learning rate exponentially. For example, you can try 0.1, 0.01, 0.001, 0.0001, 0.00001\n",
    "LEARNING_RATE = 0.001\n",
    "BATCH_SIZE = 20  # range from 0~1000\n",
    "\n",
    "model = nn.Sequential(nn.Linear(1, 1024), nn.ReLU(), nn.Linear(1024, 1))\n",
    "criterion = nn.MSELoss()\n",
    "optimizer = torch.optim.Adam(\n",
    "    params=model.parameters(), lr=LEARNING_RATE, weight_decay=1e-6\n",
    ")\n",
    "\n",
    "# Example Data for training\n",
    "x = np.arange(0, 6.28, step=0.01).reshape(-1, 1)  # [N_batch, 1]\n",
    "y = np.sin(x).reshape(-1, 1)  # [N_batch, 1]\n",
    "NUM_DATA_POINTS = x.shape[0]\n",
    "\n",
    "# We always shuffle the data when the stochasitc gradient descend is used\n",
    "shuffle_indices = np.arange(0, NUM_DATA_POINTS)\n",
    "np.random.shuffle(shuffle_indices)\n",
    "x_shuffled = torch.tensor(x[shuffle_indices], dtype=torch.float32)\n",
    "y_shuffled = torch.tensor(y[shuffle_indices], dtype=torch.float32)\n",
    "\n",
    "NUM_EPOCHS = 100\n",
    "LOG_STEP = 10\n",
    "\n",
    "# Training loop, optimization steps are performed by multiple times.\n",
    "epoch_list = []\n",
    "loss_list = []\n",
    "for epoch in range(NUM_EPOCHS):\n",
    "    for start_idx in range(0, NUM_DATA_POINTS, BATCH_SIZE):\n",
    "        # Fetch part of whole dataset\n",
    "        x_batch = x_shuffled[start_idx : start_idx + BATCH_SIZE]\n",
    "        y_batch = y_shuffled[start_idx : start_idx + BATCH_SIZE]\n",
    "        ######################## WRITE YOUR ANSWER BELOW ########################\n",
    "        loss = one_optimize_step(x_batch, y_batch, model, criterion, optimizer)\n",
    "        ########################################################################\n",
    "        loss_value = loss.item()  # Conver pytorch tensor into python number\n",
    "        epoch_list.append(epoch)\n",
    "        loss_list.append(loss_value)\n",
    "    if (epoch + 1) % LOG_STEP == 0 or epoch == NUM_EPOCHS - 1:\n",
    "        print(f\"Loss in epoch-{epoch + 1:#0{len(str(NUM_EPOCHS))}d}: {loss_value:.2e}\")\n",
    "\n",
    "# Show losses\n",
    "plt.figure()\n",
    "plt.plot(epoch_list, loss_list)\n",
    "plt.xlabel(\"Epochs\")\n",
    "plt.ylabel(\"Loss\")\n",
    "plt.show()\n",
    "\n",
    "# plot the prediction and the ground truth\n",
    "y_pred = model(torch.tensor(x, dtype=torch.float32)).detach().numpy()\n",
    "plt.figure()\n",
    "plt.plot(x, y, label=\"Ground Truth\")\n",
    "plt.plot(x, y_pred, label=\"Prediction\")\n",
    "plt.xlabel(\"x\")\n",
    "plt.ylabel(\"sin(x)\")\n",
    "plt.legend()\n",
    "plt.show()\n",
    "\n",
    "plt.close(\"all\")"
   ]
  },
  {
   "cell_type": "markdown",
   "metadata": {},
   "source": [
    "What is your conclusion for tunning the learning rate?\n",
    "\n",
    "$\\large \\color{#2196f3}{Answer:}$\n",
    "\n",
    "- Too high learning rates (e.g., 0.1) can cause training instability or divergence where the model fails to converge\n",
    "- Too low learning rates (e.g., 0.00001) result in very slow convergence\n",
    "- 0.01 fits well\n",
    "\n",
    "What is the relationship between epoch, batch size, sample size and iteration?\n",
    "\n",
    "$\\large \\color{#2196f3}{Answer:}$\n",
    "\n",
    "Sample size: The total number of examples in the dataset\n",
    "\n",
    "Batch size: Number of samples processed in one forward/backward pass (20)\n",
    "\n",
    "Iteration: One update of model parameters using one batch of data\n",
    "\n",
    "Epoch: One complete pass through the entire dataset\n",
    "\n",
    "- Number of iterations per epoch = Sample size / Batch size\n",
    "- Total iterations = Number of epochs \\* (Sample size / Batch size)\n"
   ]
  },
  {
   "cell_type": "markdown",
   "metadata": {
    "pycharm": {
     "name": "#%% md\n"
    }
   },
   "source": [
    "## Part 2: Understand MNIST data\n",
    "\n",
    "### Part 2A: Data loading\n",
    "\n",
    "The MNIST dataset consists of 70000 28x28 gray images in 10 classes. There are 60000 training images and 10000 test images.\n",
    "\n",
    "We load the MNIST dataset and perform preprocessing to prepare it for training.\n"
   ]
  },
  {
   "cell_type": "code",
   "execution_count": 11,
   "metadata": {},
   "outputs": [
    {
     "name": "stdout",
     "output_type": "stream",
     "text": [
      "Training data shape:\t torch.Size([60000, 28, 28])\n",
      "Training labels shape:\t torch.Size([60000])\n",
      "Test data shape:\t torch.Size([10000, 28, 28])\n",
      "Test labels shape:\t torch.Size([10000])\n"
     ]
    }
   ],
   "source": [
    "# Transform the data into torch tensor and normalize it to mu=0, std=1\n",
    "data_tf = transforms.Compose(\n",
    "    [transforms.ToTensor(), transforms.Normalize((0.1307,), (0.3081,))]\n",
    ")\n",
    "# Load MNIST dataset\n",
    "train_dataset = datasets.MNIST(\n",
    "    root=\"./data\", train=True, transform=data_tf, download=True\n",
    ")\n",
    "test_dataset = datasets.MNIST(\n",
    "    root=\"./data\", train=False, transform=data_tf, download=True\n",
    ")\n",
    "# Show the shape of the dataset\n",
    "X_train, Y_train = train_dataset.data, train_dataset.targets\n",
    "X_test, Y_test = test_dataset.data, test_dataset.targets\n",
    "print(\"Training data shape:\\t\", X_train.shape)\n",
    "print(\"Training labels shape:\\t\", Y_train.shape)\n",
    "print(\"Test data shape:\\t\", X_test.shape)\n",
    "print(\"Test labels shape:\\t\", Y_test.shape)"
   ]
  },
  {
   "cell_type": "code",
   "execution_count": 12,
   "metadata": {},
   "outputs": [
    {
     "data": {
      "image/png": "[encoded data removed]",
      "text/plain": [
       "<Figure size 1000x500 with 10 Axes>"
      ]
     },
     "metadata": {},
     "output_type": "display_data"
    }
   ],
   "source": [
    "# Show some images\n",
    "plt.figure(figsize=(10, 5))\n",
    "for i in range(10):\n",
    "    plt.subplot(2, 5, i + 1)\n",
    "    plt.imshow(X_train[i], cmap=\"gray\")\n",
    "    plt.title(f\"Labels: {Y_train[i].item()}\")\n",
    "    plt.axis(\"off\")\n",
    "plt.tight_layout()\n",
    "plt.show()"
   ]
  },
  {
   "cell_type": "markdown",
   "metadata": {},
   "source": [
    "### Part 2B: Prepare dataset loaders\n",
    "\n",
    "Two data loaders will be used in the following training, validation and testing phases. You need to understand the usage of `torch.utils.data.DataLoader` and build `test_loader` by yourself.\n"
   ]
  },
  {
   "cell_type": "code",
   "execution_count": 13,
   "metadata": {},
   "outputs": [],
   "source": [
    "train_loader = DataLoader(train_dataset, batch_size=64, shuffle=True, num_workers=4)\n",
    "######################## WRITE YOUR ANSWER BELOW ########################\n",
    "test_loader = DataLoader(test_dataset, batch_size=64, shuffle=False, num_workers=4)\n",
    "########################################################################"
   ]
  },
  {
   "cell_type": "markdown",
   "metadata": {},
   "source": [
    "## Part 3: Build your CNN\n"
   ]
  },
  {
   "cell_type": "markdown",
   "metadata": {},
   "source": [
    "### Part 3A: Define a simple CNN\n",
    "\n",
    "Use the knowledge you learned from this course to build a simple CNN. We will show you the model architecture.\n",
    "\n",
    "A schematic illustration of the network you need to implement:\n",
    "\n",
    "<center>\n",
    "<img src=\"./assets/Lenet.png\" width=600pt>\n",
    "</center>\n",
    "\n",
    "You may use the following information:\n",
    "\n",
    "- convolution: nn.Conv2d(in_channels, out_channels, kernel_size, stride=1, padding=0)\n",
    "- activation function: nn.ReLU()\n",
    "- max pooling: nn.MaxPool2d(kernel_size,stride=kernel_size,padding=0)\n",
    "- linear：nn.Linear(in_features, out_features, bias=True)\n",
    "- flatten: nn.Flatten(start_dim=1, end_dim=-1)\n",
    "\n",
    "The input_size: (batch_size, 1, 28, 28)\n",
    "The output_size: (batch_size, 10)\n"
   ]
  },
  {
   "cell_type": "code",
   "execution_count": 14,
   "metadata": {},
   "outputs": [],
   "source": [
    "# Define Network\n",
    "class SimpleNN(nn.Module):\n",
    "    def __init__(self):\n",
    "        super(SimpleNN, self).__init__()\n",
    "        ######################## WRITE YOUR ANSWER BELOW ########################\n",
    "        self.conv1 = nn.Conv2d(1, 6, kernel_size=3, stride=1, padding=1)\n",
    "        self.conv2 = nn.Conv2d(6, 16, kernel_size=5, stride=1, padding=0)\n",
    "        self.fc1 = nn.Linear(16 * 5 * 5, 120, bias=True)\n",
    "        self.fc2 = nn.Linear(120, 84, bias=True)\n",
    "        self.fc3 = nn.Linear(84, 10, bias=True)\n",
    "        ########################################################################\n",
    "\n",
    "    def forward(self, x):\n",
    "        ######################## WRITE YOUR ANSWER BELOW ########################\n",
    "        x = nn.ReLU()(self.conv1(x))\n",
    "        x = nn.MaxPool2d(kernel_size=2, stride=2, padding=0)(x)\n",
    "        x = nn.ReLU()(self.conv2(x))\n",
    "        x = nn.MaxPool2d(kernel_size=2, stride=2, padding=0)(x)\n",
    "        x = nn.Flatten(start_dim=1, end_dim=-1)(x)\n",
    "        x = nn.ReLU()(self.fc1(x))\n",
    "        x = nn.ReLU()(self.fc2(x))\n",
    "        x = nn.ReLU()(self.fc3(x))\n",
    "        ########################################################################\n",
    "        return x\n",
    "\n",
    "\n",
    "model_test = SimpleNN()\n",
    "X = torch.rand(size=(64, 1, 28, 28), dtype=torch.float32)\n",
    "# Test the forward function\n",
    "Y = model_test(X)\n",
    "assert Y.shape == (64, 10)"
   ]
  },
  {
   "cell_type": "markdown",
   "metadata": {},
   "source": [
    "### Part 3B: Define your Loss function\n",
    "\n",
    "Implement a CrossEntropy Loss function. $y_i$ is the ground truth label. $\\hat{y}_i$ is your NN's output. $N$ is the batch_size.\n",
    "\n",
    "$$\n",
    "L_\\text{CE} = -\\frac{1}{N} \\sum_{i=1}^N y_i \\cdot \\log(\\hat{y}_i), \\quad i = 1, \\cdots, N\n",
    "$$\n"
   ]
  },
  {
   "cell_type": "code",
   "execution_count": 15,
   "metadata": {},
   "outputs": [
    {
     "name": "stdout",
     "output_type": "stream",
     "text": [
      "Your Custom Loss is: 0.907606 while the GT Loss is: 0.907606. Test Passed!\n"
     ]
    }
   ],
   "source": [
    "class CrossEntropyLossCustom:\n",
    "    def __init__(self):\n",
    "        pass\n",
    "\n",
    "    def softmax(self, x):\n",
    "        \"\"\"Calculate softmax: change logits into probabilities.\"\"\"\n",
    "        exp_x = torch.exp(x)\n",
    "        exp_x_sum = torch.sum(exp_x, dim=1, keepdim=True)\n",
    "        return exp_x / exp_x_sum\n",
    "\n",
    "    def forward(self, outputs, targets):\n",
    "        \"\"\"\n",
    "        Calculate cross entropy loss\n",
    "        args:\n",
    "        outputs: model output(logits), shape (batch_size, num_classes)\n",
    "        targets: ground truth labels, shape (batch_size)\n",
    "\n",
    "        return:\n",
    "        loss: cross entropy loss\n",
    "        \"\"\"\n",
    "\n",
    "        # 1. Change logits into probabilities\n",
    "        ######################## WRITE YOUR ANSWER BELOW ########################\n",
    "        probs = self.softmax(outputs)\n",
    "        #########################################################################\n",
    "\n",
    "        # 2. Get the log probability\n",
    "        ######################## WRITE YOUR ANSWER BELOW ########################\n",
    "        log_probs = torch.log(probs)\n",
    "        #########################################################################\n",
    "\n",
    "        # 3. Get loss\n",
    "        batch_size = outputs.shape[0]\n",
    "        ######################## WRITE YOUR ANSWER BELOW ########################\n",
    "        loss = -torch.sum(log_probs[range(batch_size), targets]) / batch_size\n",
    "        #########################################################################\n",
    "\n",
    "        return loss\n",
    "\n",
    "\n",
    "def test_your_loss():\n",
    "    logits = torch.tensor([[1.0, 2.0, 3.0], [1.0, 2.0, 3.0]])\n",
    "    targets = torch.tensor([1, 2])\n",
    "\n",
    "    custom_loss_func = CrossEntropyLossCustom()\n",
    "    gt_loss_func = nn.CrossEntropyLoss()\n",
    "\n",
    "    custom_loss = custom_loss_func.forward(logits, targets)\n",
    "    gt_loss = gt_loss_func(logits, targets)\n",
    "\n",
    "    assert torch.allclose(\n",
    "        custom_loss, gt_loss, atol=1e-6\n",
    "    ), f\"Custom loss {custom_loss} != GT loss {gt_loss}\"\n",
    "    print(\n",
    "        f\"Your Custom Loss is: {custom_loss:06f} while the GT Loss is: {gt_loss:06f}. Test Passed!\"\n",
    "    )\n",
    "\n",
    "\n",
    "test_your_loss()"
   ]
  },
  {
   "cell_type": "markdown",
   "metadata": {},
   "source": [
    "### Part 3C: Train&Test the Network\n"
   ]
  },
  {
   "cell_type": "markdown",
   "metadata": {},
   "source": [
    "The train function and most of test function are given, All you need is to get the predicted label.\n"
   ]
  },
  {
   "cell_type": "code",
   "execution_count": 16,
   "metadata": {},
   "outputs": [],
   "source": [
    "def train(model, dataloader, optimizer, loss_fn, num_epoch):\n",
    "    model.train()\n",
    "    for epoch in range(num_epoch):\n",
    "        running_loss = 0.0\n",
    "        for i, (inputs, labels) in enumerate(\n",
    "            tqdm(dataloader, desc=f\"Epoch {epoch+1}/{num_epoch}\")\n",
    "        ):\n",
    "            optimizer.zero_grad()\n",
    "            outputs = model(inputs)\n",
    "            loss = loss_fn.forward(outputs, labels)\n",
    "            loss.backward()\n",
    "            optimizer.step()\n",
    "            running_loss += loss.item()\n",
    "        print(f\"Epoch [{epoch+1}/{num_epoch}], Loss: {running_loss/len(dataloader)}\")\n",
    "    print(\"Finished Training\")\n",
    "\n",
    "\n",
    "def test(model, dataloader, loss_fn):\n",
    "    model.eval()\n",
    "    correct = 0\n",
    "    total = 0\n",
    "    with torch.no_grad():\n",
    "        for i, (inputs, labels) in enumerate(tqdm(dataloader, desc=\"Testing\")):\n",
    "            outputs = model(inputs)\n",
    "            loss = loss_fn.forward(outputs, labels)\n",
    "            # Get the predicted class, network output size is (batch_size, num_classes), we need (batch_size, 1)\n",
    "            ######################## WRITE YOUR ANSWER BELOW ########################\n",
    "            _, predicted = torch.max(outputs, dim=1)\n",
    "            #########################################################################\n",
    "            total += labels.size(0)\n",
    "            correct += (predicted == labels).sum().item()\n",
    "    accuracy = 100 * correct / total\n",
    "    print(f\"Test Accuracy: {accuracy:.2f}%\")"
   ]
  },
  {
   "cell_type": "code",
   "execution_count": 17,
   "metadata": {},
   "outputs": [
    {
     "name": "stderr",
     "output_type": "stream",
     "text": [
      "Epoch 1/30: 100%|██████████| 938/938 [00:05<00:00, 168.83it/s]\n"
     ]
    },
    {
     "name": "stdout",
     "output_type": "stream",
     "text": [
      "Epoch [1/30], Loss: 0.7301397187623389\n"
     ]
    },
    {
     "name": "stderr",
     "output_type": "stream",
     "text": [
      "Epoch 2/30: 100%|██████████| 938/938 [00:05<00:00, 180.23it/s]\n"
     ]
    },
    {
     "name": "stdout",
     "output_type": "stream",
     "text": [
      "Epoch [2/30], Loss: 0.5568327672604813\n"
     ]
    },
    {
     "name": "stderr",
     "output_type": "stream",
     "text": [
      "Epoch 3/30: 100%|██████████| 938/938 [00:05<00:00, 175.62it/s]\n"
     ]
    },
    {
     "name": "stdout",
     "output_type": "stream",
     "text": [
      "Epoch [3/30], Loss: 0.5383603670703832\n"
     ]
    },
    {
     "name": "stderr",
     "output_type": "stream",
     "text": [
      "Epoch 4/30: 100%|██████████| 938/938 [00:05<00:00, 183.27it/s]\n"
     ]
    },
    {
     "name": "stdout",
     "output_type": "stream",
     "text": [
      "Epoch [4/30], Loss: 0.5293625148374643\n"
     ]
    },
    {
     "name": "stderr",
     "output_type": "stream",
     "text": [
      "Epoch 5/30: 100%|██████████| 938/938 [00:05<00:00, 183.92it/s]\n"
     ]
    },
    {
     "name": "stdout",
     "output_type": "stream",
     "text": [
      "Epoch [5/30], Loss: 0.5226950371252702\n"
     ]
    },
    {
     "name": "stderr",
     "output_type": "stream",
     "text": [
      "Epoch 6/30: 100%|██████████| 938/938 [00:05<00:00, 174.98it/s]\n"
     ]
    },
    {
     "name": "stdout",
     "output_type": "stream",
     "text": [
      "Epoch [6/30], Loss: 0.5177407308396246\n"
     ]
    },
    {
     "name": "stderr",
     "output_type": "stream",
     "text": [
      "Epoch 7/30: 100%|██████████| 938/938 [00:05<00:00, 163.33it/s]\n"
     ]
    },
    {
     "name": "stdout",
     "output_type": "stream",
     "text": [
      "Epoch [7/30], Loss: 0.5148597073389777\n"
     ]
    },
    {
     "name": "stderr",
     "output_type": "stream",
     "text": [
      "Epoch 8/30: 100%|██████████| 938/938 [00:05<00:00, 168.53it/s]\n"
     ]
    },
    {
     "name": "stdout",
     "output_type": "stream",
     "text": [
      "Epoch [8/30], Loss: 0.5107672275034095\n"
     ]
    },
    {
     "name": "stderr",
     "output_type": "stream",
     "text": [
      "Epoch 9/30: 100%|██████████| 938/938 [00:05<00:00, 169.91it/s]\n"
     ]
    },
    {
     "name": "stdout",
     "output_type": "stream",
     "text": [
      "Epoch [9/30], Loss: 0.5104841836638796\n"
     ]
    },
    {
     "name": "stderr",
     "output_type": "stream",
     "text": [
      "Epoch 10/30: 100%|██████████| 938/938 [00:05<00:00, 170.13it/s]\n"
     ]
    },
    {
     "name": "stdout",
     "output_type": "stream",
     "text": [
      "Epoch [10/30], Loss: 0.5084453546511594\n"
     ]
    },
    {
     "name": "stderr",
     "output_type": "stream",
     "text": [
      "Epoch 11/30: 100%|██████████| 938/938 [00:05<00:00, 175.35it/s]\n"
     ]
    },
    {
     "name": "stdout",
     "output_type": "stream",
     "text": [
      "Epoch [11/30], Loss: 0.3398059410160221\n"
     ]
    },
    {
     "name": "stderr",
     "output_type": "stream",
     "text": [
      "Epoch 12/30: 100%|██████████| 938/938 [00:05<00:00, 159.09it/s]\n"
     ]
    },
    {
     "name": "stdout",
     "output_type": "stream",
     "text": [
      "Epoch [12/30], Loss: 0.2740514528101632\n"
     ]
    },
    {
     "name": "stderr",
     "output_type": "stream",
     "text": [
      "Epoch 13/30: 100%|██████████| 938/938 [00:06<00:00, 151.97it/s]\n"
     ]
    },
    {
     "name": "stdout",
     "output_type": "stream",
     "text": [
      "Epoch [13/30], Loss: 0.27108334658591987\n"
     ]
    },
    {
     "name": "stderr",
     "output_type": "stream",
     "text": [
      "Epoch 14/30: 100%|██████████| 938/938 [00:05<00:00, 171.41it/s]\n"
     ]
    },
    {
     "name": "stdout",
     "output_type": "stream",
     "text": [
      "Epoch [14/30], Loss: 0.2678085459740773\n"
     ]
    },
    {
     "name": "stderr",
     "output_type": "stream",
     "text": [
      "Epoch 15/30: 100%|██████████| 938/938 [00:05<00:00, 173.26it/s]\n"
     ]
    },
    {
     "name": "stdout",
     "output_type": "stream",
     "text": [
      "Epoch [15/30], Loss: 0.26903533835067295\n"
     ]
    },
    {
     "name": "stderr",
     "output_type": "stream",
     "text": [
      "Epoch 16/30: 100%|██████████| 938/938 [00:05<00:00, 161.74it/s]\n"
     ]
    },
    {
     "name": "stdout",
     "output_type": "stream",
     "text": [
      "Epoch [16/30], Loss: 0.26869434864905134\n"
     ]
    },
    {
     "name": "stderr",
     "output_type": "stream",
     "text": [
      "Epoch 17/30: 100%|██████████| 938/938 [00:05<00:00, 163.58it/s]\n"
     ]
    },
    {
     "name": "stdout",
     "output_type": "stream",
     "text": [
      "Epoch [17/30], Loss: 0.2038675463637797\n"
     ]
    },
    {
     "name": "stderr",
     "output_type": "stream",
     "text": [
      "Epoch 18/30: 100%|██████████| 938/938 [00:05<00:00, 176.73it/s]\n"
     ]
    },
    {
     "name": "stdout",
     "output_type": "stream",
     "text": [
      "Epoch [18/30], Loss: 0.01040131982068727\n"
     ]
    },
    {
     "name": "stderr",
     "output_type": "stream",
     "text": [
      "Epoch 19/30: 100%|██████████| 938/938 [00:05<00:00, 183.86it/s]\n"
     ]
    },
    {
     "name": "stdout",
     "output_type": "stream",
     "text": [
      "Epoch [19/30], Loss: 0.006505439880747906\n"
     ]
    },
    {
     "name": "stderr",
     "output_type": "stream",
     "text": [
      "Epoch 20/30: 100%|██████████| 938/938 [00:05<00:00, 186.50it/s]\n"
     ]
    },
    {
     "name": "stdout",
     "output_type": "stream",
     "text": [
      "Epoch [20/30], Loss: 0.008071364708491452\n"
     ]
    },
    {
     "name": "stderr",
     "output_type": "stream",
     "text": [
      "Epoch 21/30: 100%|██████████| 938/938 [00:05<00:00, 176.75it/s]\n"
     ]
    },
    {
     "name": "stdout",
     "output_type": "stream",
     "text": [
      "Epoch [21/30], Loss: 0.009716250295426918\n"
     ]
    },
    {
     "name": "stderr",
     "output_type": "stream",
     "text": [
      "Epoch 22/30: 100%|██████████| 938/938 [00:05<00:00, 177.17it/s]\n"
     ]
    },
    {
     "name": "stdout",
     "output_type": "stream",
     "text": [
      "Epoch [22/30], Loss: 0.005037140714392945\n"
     ]
    },
    {
     "name": "stderr",
     "output_type": "stream",
     "text": [
      "Epoch 23/30: 100%|██████████| 938/938 [00:05<00:00, 180.57it/s]\n"
     ]
    },
    {
     "name": "stdout",
     "output_type": "stream",
     "text": [
      "Epoch [23/30], Loss: 0.0069981841076335646\n"
     ]
    },
    {
     "name": "stderr",
     "output_type": "stream",
     "text": [
      "Epoch 24/30: 100%|██████████| 938/938 [00:05<00:00, 180.19it/s]\n"
     ]
    },
    {
     "name": "stdout",
     "output_type": "stream",
     "text": [
      "Epoch [24/30], Loss: 0.007988770676907541\n"
     ]
    },
    {
     "name": "stderr",
     "output_type": "stream",
     "text": [
      "Epoch 25/30: 100%|██████████| 938/938 [00:05<00:00, 178.59it/s]\n"
     ]
    },
    {
     "name": "stdout",
     "output_type": "stream",
     "text": [
      "Epoch [25/30], Loss: 0.004986481899077635\n"
     ]
    },
    {
     "name": "stderr",
     "output_type": "stream",
     "text": [
      "Epoch 26/30: 100%|██████████| 938/938 [00:05<00:00, 184.91it/s]\n"
     ]
    },
    {
     "name": "stdout",
     "output_type": "stream",
     "text": [
      "Epoch [26/30], Loss: 0.007602051681780202\n"
     ]
    },
    {
     "name": "stderr",
     "output_type": "stream",
     "text": [
      "Epoch 27/30: 100%|██████████| 938/938 [00:05<00:00, 181.15it/s]\n"
     ]
    },
    {
     "name": "stdout",
     "output_type": "stream",
     "text": [
      "Epoch [27/30], Loss: 0.006233781314889174\n"
     ]
    },
    {
     "name": "stderr",
     "output_type": "stream",
     "text": [
      "Epoch 28/30: 100%|██████████| 938/938 [00:05<00:00, 180.00it/s]\n"
     ]
    },
    {
     "name": "stdout",
     "output_type": "stream",
     "text": [
      "Epoch [28/30], Loss: 0.006076944983931905\n"
     ]
    },
    {
     "name": "stderr",
     "output_type": "stream",
     "text": [
      "Epoch 29/30: 100%|██████████| 938/938 [00:05<00:00, 183.21it/s]\n"
     ]
    },
    {
     "name": "stdout",
     "output_type": "stream",
     "text": [
      "Epoch [29/30], Loss: 0.005203313217941123\n"
     ]
    },
    {
     "name": "stderr",
     "output_type": "stream",
     "text": [
      "Epoch 30/30: 100%|██████████| 938/938 [00:05<00:00, 180.91it/s]\n"
     ]
    },
    {
     "name": "stdout",
     "output_type": "stream",
     "text": [
      "Epoch [30/30], Loss: 0.004338701342971195\n",
      "Finished Training\n"
     ]
    },
    {
     "name": "stderr",
     "output_type": "stream",
     "text": [
      "Testing: 100%|██████████| 157/157 [00:00<00:00, 269.92it/s]"
     ]
    },
    {
     "name": "stdout",
     "output_type": "stream",
     "text": [
      "Test Accuracy: 98.78%\n"
     ]
    },
    {
     "name": "stderr",
     "output_type": "stream",
     "text": [
      "\n"
     ]
    }
   ],
   "source": [
    "# Initialize model, optimizer and loss function\n",
    "model = SimpleNN()\n",
    "optimizer = torch.optim.Adam(model.parameters(), lr=0.001, weight_decay=1e-5)\n",
    "criterion = CrossEntropyLossCustom()\n",
    "\n",
    "# Train model\n",
    "train(model, train_loader, optimizer, criterion, num_epoch=30)\n",
    "\n",
    "# Test model\n",
    "test(model, test_loader, criterion)"
   ]
  },
  {
   "cell_type": "markdown",
   "metadata": {},
   "source": [
    "### Part 3E: Visualize\n"
   ]
  },
  {
   "cell_type": "code",
   "execution_count": 28,
   "metadata": {},
   "outputs": [
    {
     "data": {
      "image/png": "[encoded data removed]",
      "text/plain": [
       "<Figure size 640x480 with 1 Axes>"
      ]
     },
     "metadata": {},
     "output_type": "display_data"
    },
    {
     "name": "stdout",
     "output_type": "stream",
     "text": [
      "label: is 9, while the true label is 9\n"
     ]
    },
    {
     "data": {
      "image/png": "[encoded data removed]",
      "text/plain": [
       "<Figure size 640x480 with 1 Axes>"
      ]
     },
     "metadata": {},
     "output_type": "display_data"
    },
    {
     "name": "stdout",
     "output_type": "stream",
     "text": [
      "label: is 0, while the true label is 0\n"
     ]
    },
    {
     "data": {
      "image/png": "[encoded data removed]",
      "text/plain": [
       "<Figure size 640x480 with 1 Axes>"
      ]
     },
     "metadata": {},
     "output_type": "display_data"
    },
    {
     "name": "stdout",
     "output_type": "stream",
     "text": [
      "label: is 5, while the true label is 5\n"
     ]
    },
    {
     "data": {
      "image/png": "[encoded data removed]",
      "text/plain": [
       "<Figure size 640x480 with 1 Axes>"
      ]
     },
     "metadata": {},
     "output_type": "display_data"
    },
    {
     "name": "stdout",
     "output_type": "stream",
     "text": [
      "label: is 7, while the true label is 7\n"
     ]
    },
    {
     "data": {
      "image/png": "[encoded data removed]",
      "text/plain": [
       "<Figure size 640x480 with 1 Axes>"
      ]
     },
     "metadata": {},
     "output_type": "display_data"
    },
    {
     "name": "stdout",
     "output_type": "stream",
     "text": [
      "label: is 1, while the true label is 1\n"
     ]
    },
    {
     "data": {
      "image/png": "[encoded data removed]",
      "text/plain": [
       "<Figure size 640x480 with 1 Axes>"
      ]
     },
     "metadata": {},
     "output_type": "display_data"
    },
    {
     "name": "stdout",
     "output_type": "stream",
     "text": [
      "label: is 1, while the true label is 1\n"
     ]
    },
    {
     "data": {
      "image/png": "[encoded data removed]",
      "text/plain": [
       "<Figure size 640x480 with 1 Axes>"
      ]
     },
     "metadata": {},
     "output_type": "display_data"
    },
    {
     "name": "stdout",
     "output_type": "stream",
     "text": [
      "label: is 3, while the true label is 3\n"
     ]
    }
   ],
   "source": [
    "import random\n",
    "\n",
    "\n",
    "def test_one_pic(model, input_img):\n",
    "    model.eval()\n",
    "    with torch.no_grad():\n",
    "        outputs = model(input_img)\n",
    "        _, predicted = torch.max(outputs, 1)\n",
    "    plt.imshow(input_img.squeeze(), cmap=\"gray\")\n",
    "    plt.axis(\"off\")\n",
    "    plt.show()\n",
    "    print(f\"label: is {predicted.item()}, while the true label is {label.item()}\")\n",
    "\n",
    "\n",
    "# Randomly select one image from test dataset and test it\n",
    "for i in random.sample(range(len(X_test)), 7):\n",
    "    img = X_test[i].unsqueeze(0).unsqueeze(0).float()\n",
    "    label = Y_test[i]\n",
    "    test_one_pic(model, img)"
   ]
  }
 ],
 "metadata": {
  "kernelspec": {
   "display_name": "base",
   "language": "python",
   "name": "python3"
  },
  "language_info": {
   "codemirror_mode": {
    "name": "ipython",
    "version": 3
   },
   "file_extension": ".py",
   "mimetype": "text/x-python",
   "name": "python",
   "nbconvert_exporter": "python",
   "pygments_lexer": "ipython3",
   "version": "3.12.9"
  }
 },
 "nbformat": 4,
 "nbformat_minor": 4
}
